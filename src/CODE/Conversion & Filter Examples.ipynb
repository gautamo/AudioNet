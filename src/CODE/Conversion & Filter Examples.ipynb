{
 "cells": [
  {
   "cell_type": "code",
   "execution_count": 1,
   "metadata": {},
   "outputs": [],
   "source": [
    "import convFilter"
   ]
  },
  {
   "cell_type": "code",
   "execution_count": 2,
   "metadata": {},
   "outputs": [],
   "source": [
    "# path to MSMD data set\n",
    "DATA_ROOT_MSMD = 'C:/Users/Calvin/Documents/UCI/COMPSCI/175/msmd_aug/'"
   ]
  },
  {
   "cell_type": "markdown",
   "metadata": {},
   "source": [
    "$\\textbf{filteredData Example}$"
   ]
  },
  {
   "cell_type": "code",
   "execution_count": 3,
   "metadata": {},
   "outputs": [
    {
     "name": "stdout",
     "output_type": "stream",
     "text": [
      "<msmd.data_model.piece.Piece object at 0x000001CF2B432208>\n",
      "<msmd.data_model.piece.Piece object at 0x000001CF2D59A048>\n",
      "<msmd.data_model.piece.Piece object at 0x000001CF2B513438>\n",
      "<msmd.data_model.piece.Piece object at 0x000001CF2D53DE48>\n",
      "<msmd.data_model.piece.Piece object at 0x000001CF2D53DE80>\n",
      "<msmd.data_model.piece.Piece object at 0x000001CF2D53DE10>\n",
      "<msmd.data_model.piece.Piece object at 0x000001CF2D65B630>\n",
      "<msmd.data_model.piece.Piece object at 0x000001CF2D660940>\n",
      "<msmd.data_model.piece.Piece object at 0x000001CF2D5FFBE0>\n",
      "<msmd.data_model.piece.Piece object at 0x000001CF2D654DA0>\n"
     ]
    }
   ],
   "source": [
    "filtered_performances = convFilter.filteredData(DATA_ROOT_MSMD) #creates a list with piece object\n",
    "\n",
    "for piece in filtered_performances[:10]:\n",
    "    print(piece)\n",
    "#each piece object is equivalent to the msmd tutorial notebook where they declared\n",
    "#<piece_name = 'BachJS__BWV849__bwv849b'>\n",
    "#<piece = Piece(root=DATA_ROOT_MSMD, name=piece_name)>"
   ]
  },
  {
   "cell_type": "code",
   "execution_count": 4,
   "metadata": {
    "scrolled": true
   },
   "outputs": [],
   "source": [
    "#now we can use pieces to get an available performance that has accompanying performance data\n",
    "for piece in filtered_performances:\n",
    "    piece.available_performances[0]\n",
    "    #with filtered data, you can index into the first available performance without\n",
    "    #it throwing errors for performances that have no available performances"
   ]
  },
  {
   "cell_type": "markdown",
   "metadata": {},
   "source": [
    "$\\textbf{getNvec Example}$"
   ]
  },
  {
   "cell_type": "code",
   "execution_count": 5,
   "metadata": {},
   "outputs": [],
   "source": [
    "for piece in filtered_performances[:5]:\n",
    "    performance = piece.load_performance(piece.available_performances[0], require_audio=False)\n",
    "    trueVal = convFilter.getNvec(600, performance)\n",
    "    #trueVal will hold a 128 sized vector. The index parameter of the Nvec function gets a single vector\n",
    "    #so it will only work properly when we get the smallest clip we can get, i.e. 20 fps"
   ]
  },
  {
   "cell_type": "markdown",
   "metadata": {},
   "source": [
    "$\\textbf{midiToPiano Example}$"
   ]
  },
  {
   "cell_type": "code",
   "execution_count": 6,
   "metadata": {},
   "outputs": [
    {
     "name": "stdout",
     "output_type": "stream",
     "text": [
      "A#4 A#5\n",
      "Bb4 Bb5\n"
     ]
    }
   ],
   "source": [
    "print(convFilter.midiToPiano(trueVal, 'sharp')) #The vector converted into Piano notes\n",
    "print(convFilter.midiToPiano(trueVal, 'flat'))  #The same vector converted with flat notation instead"
   ]
  }
 ],
 "metadata": {
  "kernelspec": {
   "display_name": "Python [conda env:msmd]",
   "language": "python",
   "name": "conda-env-msmd-py"
  },
  "language_info": {
   "codemirror_mode": {
    "name": "ipython",
    "version": 3
   },
   "file_extension": ".py",
   "mimetype": "text/x-python",
   "name": "python",
   "nbconvert_exporter": "python",
   "pygments_lexer": "ipython3",
   "version": "3.6.10"
  }
 },
 "nbformat": 4,
 "nbformat_minor": 2
}
